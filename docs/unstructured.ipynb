{
 "cells": [
  {
   "cell_type": "code",
   "execution_count": null,
   "id": "b13a106e",
   "metadata": {},
   "outputs": [],
   "source": [
    "import distmesh as dm\n",
    "import numpy as np\n",
    "\n",
    "fd = lambda p: np.sqrt((p**2).sum(1))-1.0\n",
    "points, triangulation = dm.distmesh2d(fd, dm.huniform, 0.2, (-1,-1,1,1))"
   ]
  },
  {
   "cell_type": "code",
   "execution_count": null,
   "id": "075be86c",
   "metadata": {},
   "outputs": [],
   "source": [
    "voro = Voronoi(points, buffer_size=0.4)\n",
    "voro.plot(center=True, tri=True)"
   ]
  },
  {
   "cell_type": "code",
   "execution_count": null,
   "id": "f2afe295",
   "metadata": {},
   "outputs": [],
   "source": []
  }
 ],
 "metadata": {
  "kernelspec": {
   "display_name": "Python 3 (Spyder)",
   "language": "python3",
   "name": "python3"
  },
  "language_info": {
   "codemirror_mode": {
    "name": "ipython",
    "version": 3
   },
   "file_extension": ".py",
   "mimetype": "text/x-python",
   "name": "python",
   "nbconvert_exporter": "python",
   "pygments_lexer": "ipython3",
   "version": "3.9.16"
  }
 },
 "nbformat": 4,
 "nbformat_minor": 5
}

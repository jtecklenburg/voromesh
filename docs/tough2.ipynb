{
 "cells": [
  {
   "cell_type": "markdown",
   "metadata": {},
   "source": [
    "# Mesh properties for TOUGH3 (Part 2)"
   ]
  },
  {
   "cell_type": "code",
   "execution_count": 7,
   "metadata": {},
   "outputs": [
    {
     "data": {
      "image/png": "[encoded data removed]",
      "text/plain": [
       "<PIL.Image.Image image mode=RGB size=1024x768>"
      ]
     },
     "metadata": {},
     "output_type": "display_data"
    }
   ],
   "source": [
    "import pyvista as pv\n",
    "import numpy as np\n",
    "\n",
    "mesh = pv.read(\"./mesh/cos_.vtu\")\n",
    "\n",
    "cpos = [\n",
    "    (6.18603515625, -23302.265175994733 , 42.33445739746094),\n",
    "    (6.18603515625, 0.5, 42.33445739746094),\n",
    "    (0.0, 0.0, 1.0),\n",
    "]\n",
    "\n",
    "pv.set_jupyter_backend('static')\n",
    "mesh.plot(notebook=True, show_edges=False, cpos=cpos)"
   ]
  },
  {
   "attachments": {},
   "cell_type": "markdown",
   "metadata": {},
   "source": [
    "In order to set up a TOUGH simulation with this mesh, we need to supply further information: The initial condition, boundary conditions, materials as well as sinks and/or sources in the domain. \n",
    "For the initial condition and the materials we need to add cell data named \"initial_conditions\" and \"material\" to the mesh. Sinks and/or source require a dictionary (see below) and boundary conditions can be defined by changing the cell volumes or by defining material properties for the boundary cells.\n",
    "\n",
    "Remark: We also need an INPUT file to set up a simulation. We do not discuss INPUT files here! INPUT files can be created manually (not recommended!) or [toughio](https://pypi.org/project/toughio/) or with [toughio-dash](https://toughio-dash.lbl.gov/).\n",
    "\n",
    "Note, that the cell data \"Volume\" is calculated from `Voronoi()` and is used to define the TOUGH3 mesh. Changes in the `mesh[\"Volume\"]` effects the cell volumes in the TOUGH3 mesh!\n",
    "\n",
    "First we define initial conditions. For our model (TOUGH3 ECO2N) we need to define the inital salt saturation, the initial CO2 saturation as well as the initial reservoir pressure and the temperature. The required parameters and the order of the parameters are specified in the TOUGH3 manual for the selected module."
   ]
  },
  {
   "cell_type": "code",
   "execution_count": 2,
   "metadata": {},
   "outputs": [],
   "source": [
    "density = 1050.0\n",
    "gravity = 9.81\n",
    "\n",
    "SSalt = 0.05\n",
    "SCO2 = 0.0\n",
    "p0 = 29430000\n",
    "T0 = 83\n",
    "\n",
    "centers = mesh.cell_centers().points\n",
    "incon = np.full((mesh.n_cells, 4), -1.0e9)\n",
    "incon[:, 0] = p0 - density * gravity * centers[:, 2]\n",
    "incon[:, 1] = SSalt\n",
    "incon[:, 2] = SCO2\n",
    "incon[:, 3] = T0\n",
    "mesh.cell_data[\"initial_condition\"] = incon"
   ]
  },
  {
   "attachments": {},
   "cell_type": "markdown",
   "metadata": {},
   "source": [
    "Now we define the boundary conditions. We want to have Dirichlet boundaries. To enforce that the initial conditions in the boundary cells did not change over time, we assign a large volume to the boundary cells."
   ]
  },
  {
   "cell_type": "code",
   "execution_count": 3,
   "metadata": {},
   "outputs": [],
   "source": [
    "# Define Boundary conditions\n",
    "minx = -6000+20\n",
    "maxx = 6000-20\n",
    "ind = np.logical_or(centers[:,0] < minx,\n",
    "                    centers[:,0] > maxx)\n",
    "mesh[\"Volume\"][ind] = mesh[\"Volume\"][ind]*1000"
   ]
  },
  {
   "attachments": {},
   "cell_type": "markdown",
   "metadata": {},
   "source": [
    "Next, we define the materials for the reservoir. We assume homogeneous rock and define two types of materials respectivly regions: \"SAND\" and \"WELL\". \n",
    "\n",
    "For the \"WELL\" region, we define an injection well. \"COM3\" is CO2 and 0.06 the injection rate. \"COM1\" is water. We need to inject a small ammount of water to support numerical stability."
   ]
  },
  {
   "cell_type": "code",
   "execution_count": 4,
   "metadata": {},
   "outputs": [],
   "source": [
    "# Add materials\n",
    "materials = {1: \"SAND\",\n",
    "             2: \"WELL\"}\n",
    "\n",
    "mesh.cell_data[\"material\"] = 1\n",
    "ind = mesh.find_cells_along_line([-3000, 0.5, -500], [-1500, 0.5, 500])\n",
    "mesh.cell_data[\"material\"][ind] = 2\n",
    "\n",
    "# Define Sources\n",
    "wells = {\"WELL\": {\"COM3\": 0.06,\n",
    "                  \"COM1\": 1e-6}}"
   ]
  },
  {
   "attachments": {},
   "cell_type": "markdown",
   "metadata": {},
   "source": [
    "Now we have all information, we need write the MESH file and update the INFILE with the information on the wells. The injection rate is automatically distributed to all cells of the material \tproportional to the cell volumes.\n",
    "\n",
    "We also save the mesh as VTU. After the simulation, the results can be attached to the VTU file and analyzed with Paraview."
   ]
  },
  {
   "cell_type": "code",
   "execution_count": 5,
   "metadata": {},
   "outputs": [
    {
     "name": "stdout",
     "output_type": "stream",
     "text": [
      "100%\n"
     ]
    }
   ],
   "source": [
    "from voromesh.tough3 import write_mesh, update_gener\n",
    "from os.path import join\n",
    "\n",
    "mesh.save(\".\\mesh\\mesh_.vtu\")\n",
    "\n",
    "# Write TOUGH3 MESH file\n",
    "path = r\"./mesh/\"\n",
    "write_mesh(path, mesh, materials)\n",
    "\n",
    "# Update TOUGH3 INFILE with information on wells\n",
    "update_gener(join(path, \"INFILE\"), mesh, materials, wells)"
   ]
  },
  {
   "cell_type": "markdown",
   "metadata": {},
   "source": [
    "We need to select an efficient solver for this problem. For such a problem in TOUGH3 (3.0.0) GMRES with additive schwarz preconditioning from PETSc   \n",
    "\n",
    "```\n",
    "-ksp_type gmres\n",
    "-pc_type asm\n",
    "-sub_pc_type lu\n",
    "-ksp_rtol 1e-8\n",
    "```\n",
    "\n",
    "or GMRES with ILU preconditioning from PETSc may be a good  choice:\n",
    "\n",
    "```\n",
    "-ksp_type gmres\n",
    "-ksp_gmres_restart 30\n",
    "-ksp_rtol 1e-8\n",
    "-pc_type ilu\n",
    "-pc_factor_mat_ordering_type natural\n",
    "-pc_factor_reuse_factorization\n",
    "-pc_factor_reuse_fill\n",
    "-pc_factor_reuse_ordering\n",
    "```\n",
    "\n",
    "After the simulation, we can attach the results from TOUGH3 to the vtu mesh using `outfile2vtu()` from  `voromesh.tough3`. Open the generated pvd file in Paraview to see results with timestamps. "
   ]
  }
 ],
 "metadata": {
  "kernelspec": {
   "display_name": ".venv",
   "language": "python",
   "name": "python3"
  },
  "language_info": {
   "codemirror_mode": {
    "name": "ipython",
    "version": 3
   },
   "file_extension": ".py",
   "mimetype": "text/x-python",
   "name": "python",
   "nbconvert_exporter": "python",
   "pygments_lexer": "ipython3",
   "version": "3.7.8"
  },
  "orig_nbformat": 4
 },
 "nbformat": 4,
 "nbformat_minor": 2
}
